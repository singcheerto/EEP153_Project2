{
 "cells": [
  {
   "cell_type": "code",
   "execution_count": 1,
   "metadata": {},
   "outputs": [],
   "source": [
    "import numpy as np\n",
    "import pandas as pd"
   ]
  },
  {
   "cell_type": "code",
   "execution_count": null,
   "metadata": {},
   "outputs": [],
   "source": []
  },
  {
   "cell_type": "code",
   "execution_count": 2,
   "metadata": {},
   "outputs": [],
   "source": [
    "#steven's comment"
   ]
  },
  {
   "cell_type": "code",
   "execution_count": null,
   "metadata": {},
   "outputs": [],
   "source": []
  },
  {
   "cell_type": "code",
   "execution_count": 3,
   "metadata": {},
   "outputs": [
    {
     "name": "stdout",
     "output_type": "stream",
     "text": [
      "Requirement already satisfied: Pint==0.16.1 in /opt/conda/lib/python3.8/site-packages (from -r requirements.txt (line 4)) (0.16.1)\n",
      "Requirement already satisfied: gspread==3.6.0 in /opt/conda/lib/python3.8/site-packages (from -r requirements.txt (line 7)) (3.6.0)\n",
      "Requirement already satisfied: numpy==1.19.2 in /opt/conda/lib/python3.8/site-packages (from -r requirements.txt (line 10)) (1.19.2)\n",
      "Requirement already satisfied: oauth2client==4.1.3 in /opt/conda/lib/python3.8/site-packages (from -r requirements.txt (line 13)) (4.1.3)\n",
      "Requirement already satisfied: pandas==1.1.3 in /opt/conda/lib/python3.8/site-packages (from -r requirements.txt (line 17)) (1.1.3)\n",
      "Requirement already satisfied: requests==2.25.0 in /opt/conda/lib/python3.8/site-packages (from -r requirements.txt (line 20)) (2.25.0)\n",
      "Requirement already satisfied: packaging in /opt/conda/lib/python3.8/site-packages (from Pint==0.16.1->-r requirements.txt (line 4)) (20.9)\n",
      "Requirement already satisfied: google-auth>=1.12.0 in /opt/conda/lib/python3.8/site-packages (from gspread==3.6.0->-r requirements.txt (line 7)) (1.25.0)\n",
      "Requirement already satisfied: google-auth-oauthlib>=0.4.1 in /opt/conda/lib/python3.8/site-packages (from gspread==3.6.0->-r requirements.txt (line 7)) (0.4.1)\n",
      "Requirement already satisfied: rsa>=3.1.4 in /opt/conda/lib/python3.8/site-packages (from oauth2client==4.1.3->-r requirements.txt (line 13)) (4.7)\n",
      "Requirement already satisfied: six>=1.6.1 in /opt/conda/lib/python3.8/site-packages (from oauth2client==4.1.3->-r requirements.txt (line 13)) (1.15.0)\n",
      "Requirement already satisfied: pyasn1-modules>=0.0.5 in /opt/conda/lib/python3.8/site-packages (from oauth2client==4.1.3->-r requirements.txt (line 13)) (0.2.8)\n",
      "Requirement already satisfied: httplib2>=0.9.1 in /opt/conda/lib/python3.8/site-packages (from oauth2client==4.1.3->-r requirements.txt (line 13)) (0.19.0)\n",
      "Requirement already satisfied: pyasn1>=0.1.7 in /opt/conda/lib/python3.8/site-packages (from oauth2client==4.1.3->-r requirements.txt (line 13)) (0.4.8)\n",
      "Requirement already satisfied: python-dateutil>=2.7.3 in /opt/conda/lib/python3.8/site-packages (from pandas==1.1.3->-r requirements.txt (line 17)) (2.8.1)\n",
      "Requirement already satisfied: pytz>=2017.2 in /opt/conda/lib/python3.8/site-packages (from pandas==1.1.3->-r requirements.txt (line 17)) (2020.5)\n",
      "Requirement already satisfied: chardet<4,>=3.0.2 in /opt/conda/lib/python3.8/site-packages (from requests==2.25.0->-r requirements.txt (line 20)) (3.0.4)\n",
      "Requirement already satisfied: idna<3,>=2.5 in /opt/conda/lib/python3.8/site-packages (from requests==2.25.0->-r requirements.txt (line 20)) (2.8)\n",
      "Requirement already satisfied: certifi>=2017.4.17 in /opt/conda/lib/python3.8/site-packages (from requests==2.25.0->-r requirements.txt (line 20)) (2019.11.28)\n",
      "Requirement already satisfied: urllib3<1.27,>=1.21.1 in /opt/conda/lib/python3.8/site-packages (from requests==2.25.0->-r requirements.txt (line 20)) (1.25.7)\n",
      "Requirement already satisfied: pyparsing>=2.0.2 in /opt/conda/lib/python3.8/site-packages (from packaging->Pint==0.16.1->-r requirements.txt (line 4)) (2.4.7)\n",
      "Requirement already satisfied: setuptools>=40.3.0 in /opt/conda/lib/python3.8/site-packages (from google-auth>=1.12.0->gspread==3.6.0->-r requirements.txt (line 7)) (49.6.0.post20210108)\n",
      "Requirement already satisfied: cachetools<5.0,>=2.0.0 in /opt/conda/lib/python3.8/site-packages (from google-auth>=1.12.0->gspread==3.6.0->-r requirements.txt (line 7)) (4.2.1)\n",
      "Requirement already satisfied: requests-oauthlib>=0.7.0 in /opt/conda/lib/python3.8/site-packages (from google-auth-oauthlib>=0.4.1->gspread==3.6.0->-r requirements.txt (line 7)) (1.3.0)\n",
      "Requirement already satisfied: oauthlib>=3.0.0 in /opt/conda/lib/python3.8/site-packages (from requests-oauthlib>=0.7.0->google-auth-oauthlib>=0.4.1->gspread==3.6.0->-r requirements.txt (line 7)) (3.1.0)\n"
     ]
    }
   ],
   "source": [
    "!pip install -r requirements.txt"
   ]
  },
  {
   "cell_type": "code",
   "execution_count": 10,
   "metadata": {},
   "outputs": [
    {
     "name": "stdout",
     "output_type": "stream",
     "text": [
      "gpg: can't open '../students-9093fa174318.json.gpg': No such file or directory\n",
      "gpg: decrypt_message failed: No such file or directory\n"
     ]
    }
   ],
   "source": [
    "!gpg --batch --passphrase \"noodle octopus\" -d ../students-9093fa174318.json.gpg > ../students-9093fa174318.json"
   ]
  },
  {
   "cell_type": "code",
   "execution_count": 5,
   "metadata": {},
   "outputs": [
    {
     "name": "stdout",
     "output_type": "stream",
     "text": [
      "/home/jovyan/EEP153_Project2\n"
     ]
    }
   ],
   "source": [
    "!pwd"
   ]
  },
  {
   "cell_type": "code",
   "execution_count": 6,
   "metadata": {},
   "outputs": [],
   "source": [
    "user = \"haley\"\n",
    "\n",
    "# API key for Gov\n",
    "apikey = \"inIyO1begWSRqsYtxS7m6p09PSyq7Qiw7fxzV2qN\"\n",
    "\n",
    "# File with private keys for relevant service account to authenticate\n",
    "# and access google spreadsheets\n",
    "serviceacct = {'haley':'../students-9093fa174318.json'}"
   ]
  },
  {
   "cell_type": "code",
   "execution_count": 7,
   "metadata": {},
   "outputs": [],
   "source": [
    "SHEETs = [# List\n",
    "          (\"https://docs.google.com/spreadsheet/ccc?key=1xnjnl42g_jYKdkOfW2OF7tBdGmuCAeJluT2O7fx1OQE\"), \n",
    "         ]"
   ]
  },
  {
   "cell_type": "code",
   "execution_count": 9,
   "metadata": {},
   "outputs": [
    {
     "ename": "UnboundLocalError",
     "evalue": "local variable 'gc' referenced before assignment",
     "output_type": "error",
     "traceback": [
      "\u001b[0;31m---------------------------------------------------------------------------\u001b[0m",
      "\u001b[0;31mUnboundLocalError\u001b[0m                         Traceback (most recent call last)",
      "\u001b[0;32m<ipython-input-9-8272ae87a851>\u001b[0m in \u001b[0;36m<module>\u001b[0;34m\u001b[0m\n\u001b[1;32m      2\u001b[0m \u001b[0;32mfrom\u001b[0m \u001b[0meep153_tools\u001b[0m \u001b[0;32mimport\u001b[0m \u001b[0mread_sheets\u001b[0m\u001b[0;34m\u001b[0m\u001b[0;34m\u001b[0m\u001b[0m\n\u001b[1;32m      3\u001b[0m \u001b[0;34m\u001b[0m\u001b[0m\n\u001b[0;32m----> 4\u001b[0;31m df = read_sheets(\"https://docs.google.com/spreadsheets/d/1xnjnl42g_jYKdkOfW2OF7tBdGmuCAeJluT2O7fx1OQE\",\n\u001b[0m\u001b[1;32m      5\u001b[0m                  \u001b[0msheet\u001b[0m\u001b[0;34m=\u001b[0m\u001b[0;34m\"Sheet1\"\u001b[0m\u001b[0;34m,\u001b[0m\u001b[0;34m\u001b[0m\u001b[0;34m\u001b[0m\u001b[0m\n\u001b[1;32m      6\u001b[0m                  json_creds=None)\n",
      "\u001b[0;32m~/EEP153_Project2/eep153_tools.py\u001b[0m in \u001b[0;36mread_sheets\u001b[0;34m(key, json_creds, sheet)\u001b[0m\n\u001b[1;32m     25\u001b[0m \u001b[0;34m\u001b[0m\u001b[0m\n\u001b[1;32m     26\u001b[0m     \u001b[0;32mif\u001b[0m \u001b[0;34m'https://'\u001b[0m \u001b[0;32min\u001b[0m \u001b[0mkey\u001b[0m\u001b[0;34m[\u001b[0m\u001b[0;34m:\u001b[0m\u001b[0;36m9\u001b[0m\u001b[0;34m]\u001b[0m\u001b[0;34m:\u001b[0m\u001b[0;34m\u001b[0m\u001b[0;34m\u001b[0m\u001b[0m\n\u001b[0;32m---> 27\u001b[0;31m         \u001b[0mwkb\u001b[0m \u001b[0;34m=\u001b[0m \u001b[0mgc\u001b[0m\u001b[0;34m.\u001b[0m\u001b[0mopen_by_url\u001b[0m\u001b[0;34m(\u001b[0m\u001b[0mkey\u001b[0m\u001b[0;34m)\u001b[0m\u001b[0;34m\u001b[0m\u001b[0;34m\u001b[0m\u001b[0m\n\u001b[0m\u001b[1;32m     28\u001b[0m     \u001b[0;32melse\u001b[0m\u001b[0;34m:\u001b[0m\u001b[0;34m\u001b[0m\u001b[0;34m\u001b[0m\u001b[0m\n\u001b[1;32m     29\u001b[0m         \u001b[0mwkb\u001b[0m \u001b[0;34m=\u001b[0m \u001b[0mgc\u001b[0m\u001b[0;34m.\u001b[0m\u001b[0mopen_by_key\u001b[0m\u001b[0;34m(\u001b[0m\u001b[0mkey\u001b[0m\u001b[0;34m)\u001b[0m\u001b[0;34m\u001b[0m\u001b[0;34m\u001b[0m\u001b[0m\n",
      "\u001b[0;31mUnboundLocalError\u001b[0m: local variable 'gc' referenced before assignment"
     ]
    }
   ],
   "source": [
    "import pandas as pd\n",
    "from eep153_tools import read_sheets\n",
    "\n",
    "df = read_sheets(\"https://docs.google.com/spreadsheets/d/1xnjnl42g_jYKdkOfW2OF7tBdGmuCAeJluT2O7fx1OQE\",\n",
    "                 sheet=\"Sheet1\",\n",
    "                 json_creds=serviceacct[user])\n",
    "\n",
    "df"
   ]
  },
  {
   "cell_type": "code",
   "execution_count": null,
   "metadata": {},
   "outputs": [],
   "source": []
  },
  {
   "cell_type": "code",
   "execution_count": null,
   "metadata": {},
   "outputs": [],
   "source": []
  }
 ],
 "metadata": {
  "kernelspec": {
   "display_name": "Python 3",
   "language": "python",
   "name": "python3"
  },
  "language_info": {
   "codemirror_mode": {
    "name": "ipython",
    "version": 3
   },
   "file_extension": ".py",
   "mimetype": "text/x-python",
   "name": "python",
   "nbconvert_exporter": "python",
   "pygments_lexer": "ipython3",
   "version": "3.8.6"
  }
 },
 "nbformat": 4,
 "nbformat_minor": 4
}
