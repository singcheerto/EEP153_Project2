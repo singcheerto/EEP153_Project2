{
 "cells": [
  {
   "cell_type": "code",
   "execution_count": null,
   "metadata": {},
   "outputs": [],
   "source": [
    "## Ignore for now\n",
    "\n",
    "p = Prices.apply(lambda x:x.magnitude).dropna()\n",
    "\n",
    "# Compile list that we have both prices and nutritional info for; drop if either missing\n",
    "use = list(set(p.index.tolist()).intersection(FoodNutrients.columns.tolist()))\n",
    "p = p[use]\n",
    "\n",
    "p\n",
    "\n",
    "# Drop nutritional information for foods we don't know the price of,\n",
    "# and replace missing nutrients with zeros.\n",
    "Aall = FoodNutrients[p.index].fillna(0)\n",
    "\n",
    "# Drop rows of A that we don't have constraints for.\n",
    "Amin = Aall.loc[bmin.index]\n",
    "\n",
    "Amax = Aall.loc[bmax.index]\n",
    "\n",
    "# Minimum requirements involve multiplying constraint by -1 to make <=.\n",
    "A = pd.concat([Amin,-Amax])\n",
    "\n",
    "A\n",
    "\n",
    "b = pd.concat([bmin,-bmax]) # Note sign change for max constraints\n",
    "b\n",
    "\n",
    "A.loc['Vitamin A, RAE']"
   ]
  }
 ],
 "metadata": {
  "kernelspec": {
   "display_name": "Python 3",
   "language": "python",
   "name": "python3"
  },
  "language_info": {
   "codemirror_mode": {
    "name": "ipython",
    "version": 3
   },
   "file_extension": ".py",
   "mimetype": "text/x-python",
   "name": "python",
   "nbconvert_exporter": "python",
   "pygments_lexer": "ipython3",
   "version": "3.8.8"
  }
 },
 "nbformat": 4,
 "nbformat_minor": 4
}
